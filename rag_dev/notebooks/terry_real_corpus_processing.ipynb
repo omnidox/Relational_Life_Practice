{
 "cells": [
  {
   "cell_type": "markdown",
   "metadata": {},
   "source": [
    "# Terry Real Corpus Processing\n",
    "\n",
    "**Purpose**: Process Terry Real's 3 books into ChromaDB collection for RAG-enhanced AI conversations\n",
    "\n",
    "**Task 2 Requirements**:\n",
    "- 📚 Extract text from Terry Real PDFs systematically\n",
    "- 🔪 Implement semantic chunking for relationship concepts\n",
    "- 🏷️ Preserve metadata (book source, chapter, concept type)\n",
    "- 🚀 Batch embed all chunks with validated all-MiniLM-L6-v2\n",
    "- ✅ Validate quality - chunk coherence and embedding coverage\n",
    "\n",
    "**Technology Stack**: ChromaDB + all-MiniLM-L6-v2 (validated in Task 1)\n",
    "\n",
    "---"
   ]
  },
  {
   "cell_type": "markdown",
   "metadata": {},
   "source": [
    "## 📋 Processing Overview\n",
    "\n",
    "**Source Materials**:\n",
    "1. `terry-real-how-can-i-get-through-to-you.pdf`\n",
    "2. `terry-real-new-rules-of-marriage.pdf`\n",
    "3. `terry-real-us-getting-past-you-and-me.pdf`\n",
    "\n",
    "**Processing Pipeline**:\n",
    "1. **Text Extraction** - Extract clean text from PDFs\n",
    "2. **Content Analysis** - Understand structure and identify chapters\n",
    "3. **Chunking Strategy** - Semantic chunking for relationship concepts\n",
    "4. **Metadata Creation** - Preserve book/chapter/concept information\n",
    "5. **Embedding Generation** - Process with all-MiniLM-L6-v2\n",
    "6. **Quality Validation** - Test retrieval and coherence\n",
    "7. **Performance Testing** - Verify query performance for AI conversations\n",
    "\n",
    "---"
   ]
  },
  {
   "cell_type": "markdown",
   "metadata": {},
   "source": [
    "## 1. Dependencies & Environment Setup"
   ]
  },
  {
   "cell_type": "code",
   "execution_count": 2,
   "metadata": {},
   "outputs": [
    {
     "name": "stdout",
     "output_type": "stream",
     "text": [
      "📦 All dependencies imported successfully\n",
      "ChromaDB version: 1.0.12\n"
     ]
    }
   ],
   "source": [
    "# Core dependencies\n",
    "import os\n",
    "import re\n",
    "import time\n",
    "from pathlib import Path\n",
    "\n",
    "# PDF processing\n",
    "from pdfminer.high_level import extract_text\n",
    "\n",
    "# Text processing and chunking\n",
    "from langchain.text_splitter import RecursiveCharacterTextSplitter\n",
    "\n",
    "# ChromaDB and embeddings\n",
    "import chromadb\n",
    "from chromadb.config import Settings\n",
    "from sentence_transformers import SentenceTransformer\n",
    "\n",
    "# Data analysis and visualization\n",
    "import pandas as pd\n",
    "import numpy as np\n",
    "from collections import Counter\n",
    "\n",
    "print(\"📦 All dependencies imported successfully\")\n",
    "print(f\"ChromaDB version: {chromadb.__version__}\")"
   ]
  },
  {
   "cell_type": "code",
   "execution_count": 3,
   "metadata": {},
   "outputs": [
    {
     "name": "stdout",
     "output_type": "stream",
     "text": [
      "📁 PDF Directory: D:\\Github\\Relational_Life_Practice\\rag_dev\\docs\\Research\\source-materials\\pdf books\n",
      "📁 ChromaDB Directory: D:\\Github\\Relational_Life_Practice\\rag_dev\\rag_dev\\chroma_db\n",
      "🗂️ Collection Name: terry_real_corpus\n",
      "🔧 Chunk Size: 1000, Overlap: 200\n",
      "🤖 Embedding Model: all-MiniLM-L6-v2\n",
      "\n",
      "📚 Found 0 PDF files:\n",
      "⚠️ Expected 3 Terry Real PDFs, please verify file paths\n"
     ]
    }
   ],
   "source": [
    "# Project configuration\n",
    "PROJECT_ROOT = Path(\"..\").resolve()  # From notebooks/ to project root\n",
    "PDF_DIR = PROJECT_ROOT / \"docs\" / \"Research\" / \"source-materials\" / \"pdf books\"\n",
    "CHROMA_DIR = PROJECT_ROOT / \"rag_dev\" / \"chroma_db\"\n",
    "COLLECTION_NAME = \"terry_real_corpus\"\n",
    "\n",
    "# Processing parameters (we'll optimize these)\n",
    "CHUNK_SIZE = 1000\n",
    "CHUNK_OVERLAP = 200\n",
    "EMBEDDING_MODEL = \"all-MiniLM-L6-v2\"  # Validated in Task 1\n",
    "\n",
    "print(f\"📁 PDF Directory: {PDF_DIR}\")\n",
    "print(f\"📁 ChromaDB Directory: {CHROMA_DIR}\")\n",
    "print(f\"🗂️ Collection Name: {COLLECTION_NAME}\")\n",
    "print(f\"🔧 Chunk Size: {CHUNK_SIZE}, Overlap: {CHUNK_OVERLAP}\")\n",
    "print(f\"🤖 Embedding Model: {EMBEDDING_MODEL}\")\n",
    "\n",
    "# Verify PDF files exist\n",
    "pdf_files = list(PDF_DIR.glob(\"*.pdf\"))\n",
    "print(f\"\\n📚 Found {len(pdf_files)} PDF files:\")\n",
    "for pdf in pdf_files:\n",
    "    print(f\"   - {pdf.name}\")\n",
    "    \n",
    "if len(pdf_files) != 3:\n",
    "    print(\"⚠️ Expected 3 Terry Real PDFs, please verify file paths\")\n",
    "else:\n",
    "    print(\"✅ All Terry Real PDFs found\")"
   ]
  },
  {
   "cell_type": "code",
   "execution_count": 4,
   "metadata": {},
   "outputs": [
    {
     "name": "stdout",
     "output_type": "stream",
     "text": [
      "🚀 Initializing ChromaDB and embedding model...\n",
      "✅ ChromaDB client initialized at D:\\Github\\Relational_Life_Practice\\rag_dev\\rag_dev\\chroma_db\n"
     ]
    },
    {
     "data": {
      "application/vnd.jupyter.widget-view+json": {
       "model_id": "c522d2e1eae647b7bf4adb19b2a2f7a1",
       "version_major": 2,
       "version_minor": 0
      },
      "text/plain": [
       "modules.json:   0%|          | 0.00/349 [00:00<?, ?B/s]"
      ]
     },
     "metadata": {},
     "output_type": "display_data"
    },
    {
     "name": "stderr",
     "output_type": "stream",
     "text": [
      "d:\\Github\\Relational_Life_Practice\\venv\\Lib\\site-packages\\huggingface_hub\\file_download.py:143: UserWarning: `huggingface_hub` cache-system uses symlinks by default to efficiently store duplicated files but your machine does not support them in C:\\Users\\omnid\\.cache\\huggingface\\hub\\models--sentence-transformers--all-MiniLM-L6-v2. Caching files will still work but in a degraded version that might require more space on your disk. This warning can be disabled by setting the `HF_HUB_DISABLE_SYMLINKS_WARNING` environment variable. For more details, see https://huggingface.co/docs/huggingface_hub/how-to-cache#limitations.\n",
      "To support symlinks on Windows, you either need to activate Developer Mode or to run Python as an administrator. In order to activate developer mode, see this article: https://docs.microsoft.com/en-us/windows/apps/get-started/enable-your-device-for-development\n",
      "  warnings.warn(message)\n"
     ]
    },
    {
     "data": {
      "application/vnd.jupyter.widget-view+json": {
       "model_id": "791578e2856c47e3a3e596c15f48cc87",
       "version_major": 2,
       "version_minor": 0
      },
      "text/plain": [
       "config_sentence_transformers.json:   0%|          | 0.00/116 [00:00<?, ?B/s]"
      ]
     },
     "metadata": {},
     "output_type": "display_data"
    },
    {
     "data": {
      "application/vnd.jupyter.widget-view+json": {
       "model_id": "c886201d3ced4bd79ffca11178f5ee93",
       "version_major": 2,
       "version_minor": 0
      },
      "text/plain": [
       "README.md:   0%|          | 0.00/10.5k [00:00<?, ?B/s]"
      ]
     },
     "metadata": {},
     "output_type": "display_data"
    },
    {
     "data": {
      "application/vnd.jupyter.widget-view+json": {
       "model_id": "f5828394018e4935884371d2d3d6e6cd",
       "version_major": 2,
       "version_minor": 0
      },
      "text/plain": [
       "sentence_bert_config.json:   0%|          | 0.00/53.0 [00:00<?, ?B/s]"
      ]
     },
     "metadata": {},
     "output_type": "display_data"
    },
    {
     "data": {
      "application/vnd.jupyter.widget-view+json": {
       "model_id": "713abbdb1b8649418b71194155b8e82a",
       "version_major": 2,
       "version_minor": 0
      },
      "text/plain": [
       "config.json:   0%|          | 0.00/612 [00:00<?, ?B/s]"
      ]
     },
     "metadata": {},
     "output_type": "display_data"
    },
    {
     "name": "stderr",
     "output_type": "stream",
     "text": [
      "Xet Storage is enabled for this repo, but the 'hf_xet' package is not installed. Falling back to regular HTTP download. For better performance, install the package with: `pip install huggingface_hub[hf_xet]` or `pip install hf_xet`\n"
     ]
    },
    {
     "data": {
      "application/vnd.jupyter.widget-view+json": {
       "model_id": "8355ae08fe164618ba0ee927c83fce9a",
       "version_major": 2,
       "version_minor": 0
      },
      "text/plain": [
       "model.safetensors:   0%|          | 0.00/90.9M [00:00<?, ?B/s]"
      ]
     },
     "metadata": {},
     "output_type": "display_data"
    },
    {
     "data": {
      "application/vnd.jupyter.widget-view+json": {
       "model_id": "a4280be1b9dd4199b81253383a65d3db",
       "version_major": 2,
       "version_minor": 0
      },
      "text/plain": [
       "tokenizer_config.json:   0%|          | 0.00/350 [00:00<?, ?B/s]"
      ]
     },
     "metadata": {},
     "output_type": "display_data"
    },
    {
     "data": {
      "application/vnd.jupyter.widget-view+json": {
       "model_id": "af8c53937d6048768a074ec2d3c5c6da",
       "version_major": 2,
       "version_minor": 0
      },
      "text/plain": [
       "vocab.txt:   0%|          | 0.00/232k [00:00<?, ?B/s]"
      ]
     },
     "metadata": {},
     "output_type": "display_data"
    },
    {
     "data": {
      "application/vnd.jupyter.widget-view+json": {
       "model_id": "3c10f40e4551492a9492543e2dca63e0",
       "version_major": 2,
       "version_minor": 0
      },
      "text/plain": [
       "tokenizer.json:   0%|          | 0.00/466k [00:00<?, ?B/s]"
      ]
     },
     "metadata": {},
     "output_type": "display_data"
    },
    {
     "data": {
      "application/vnd.jupyter.widget-view+json": {
       "model_id": "c6c4add24b0b45378e3f4e615a33b19c",
       "version_major": 2,
       "version_minor": 0
      },
      "text/plain": [
       "special_tokens_map.json:   0%|          | 0.00/112 [00:00<?, ?B/s]"
      ]
     },
     "metadata": {},
     "output_type": "display_data"
    },
    {
     "data": {
      "application/vnd.jupyter.widget-view+json": {
       "model_id": "aad8443cf73b44c9be4d1733f84e0626",
       "version_major": 2,
       "version_minor": 0
      },
      "text/plain": [
       "config.json:   0%|          | 0.00/190 [00:00<?, ?B/s]"
      ]
     },
     "metadata": {},
     "output_type": "display_data"
    },
    {
     "name": "stdout",
     "output_type": "stream",
     "text": [
      "✅ Embedding model 'all-MiniLM-L6-v2' loaded\n",
      "📐 Embedding dimension: 384\n",
      "✅ Embedding dimensions match Task 1 validation: 384\n"
     ]
    }
   ],
   "source": [
    "# Initialize ChromaDB client and embedding model\n",
    "print(\"🚀 Initializing ChromaDB and embedding model...\")\n",
    "\n",
    "# Create ChromaDB directory if it doesn't exist\n",
    "CHROMA_DIR.mkdir(parents=True, exist_ok=True)\n",
    "\n",
    "# Initialize persistent ChromaDB client\n",
    "client = chromadb.PersistentClient(path=str(CHROMA_DIR))\n",
    "print(f\"✅ ChromaDB client initialized at {CHROMA_DIR}\")\n",
    "\n",
    "# Initialize embedding model (same as Task 1 validation)\n",
    "embedder = SentenceTransformer(EMBEDDING_MODEL)\n",
    "print(f\"✅ Embedding model '{EMBEDDING_MODEL}' loaded\")\n",
    "print(f\"📐 Embedding dimension: {embedder.get_sentence_embedding_dimension()}\")\n",
    "\n",
    "# Verify this matches our Task 1 validation (should be 384)\n",
    "expected_dim = 384\n",
    "actual_dim = embedder.get_sentence_embedding_dimension()\n",
    "if actual_dim == expected_dim:\n",
    "    print(f\"✅ Embedding dimensions match Task 1 validation: {actual_dim}\")\n",
    "else:\n",
    "    print(f\"⚠️ Dimension mismatch! Expected {expected_dim}, got {actual_dim}\")"
   ]
  },
  {
   "cell_type": "code",
   "execution_count": 5,
   "metadata": {},
   "outputs": [
    {
     "name": "stdout",
     "output_type": "stream",
     "text": [
      "🧹 Preparing clean environment for terry_real_corpus...\n",
      "ℹ️ No existing collection to delete: Collection [terry_real_corpus] does not exists\n",
      "✅ Fresh collection 'terry_real_corpus' created\n",
      "📊 Collection count: 0 documents\n",
      "\n",
      "============================================================\n",
      "🎉 ENVIRONMENT SETUP COMPLETE\n",
      "✅ Dependencies loaded\n",
      "✅ Paths configured and verified\n",
      "✅ ChromaDB client initialized\n",
      "✅ Embedding model ready (384 dimensions)\n",
      "✅ Fresh collection created\n",
      "🚀 Ready for PDF text extraction\n",
      "============================================================\n"
     ]
    }
   ],
   "source": [
    "# Clean up any existing collection (for fresh processing)\n",
    "print(f\"🧹 Preparing clean environment for {COLLECTION_NAME}...\")\n",
    "\n",
    "try:\n",
    "    existing_collection = client.get_collection(COLLECTION_NAME)\n",
    "    client.delete_collection(COLLECTION_NAME)\n",
    "    print(f\"🗑️ Deleted existing collection '{COLLECTION_NAME}'\")\n",
    "except Exception as e:\n",
    "    print(f\"ℹ️ No existing collection to delete: {e}\")\n",
    "\n",
    "# Create fresh collection\n",
    "collection = client.create_collection(\n",
    "    name=COLLECTION_NAME,\n",
    "    metadata={\"description\": \"Terry Real's Relational Life Therapy corpus for AI conversations\"}\n",
    ")\n",
    "print(f\"✅ Fresh collection '{COLLECTION_NAME}' created\")\n",
    "print(f\"📊 Collection count: {collection.count()} documents\")\n",
    "\n",
    "print(\"\\n\" + \"=\"*60)\n",
    "print(\"🎉 ENVIRONMENT SETUP COMPLETE\")\n",
    "print(\"✅ Dependencies loaded\")\n",
    "print(\"✅ Paths configured and verified\")\n",
    "print(\"✅ ChromaDB client initialized\")\n",
    "print(\"✅ Embedding model ready (384 dimensions)\")\n",
    "print(\"✅ Fresh collection created\")\n",
    "print(\"🚀 Ready for PDF text extraction\")\n",
    "print(\"=\"*60)"
   ]
  },
  {
   "cell_type": "code",
   "execution_count": null,
   "metadata": {},
   "outputs": [],
   "source": []
  }
 ],
 "metadata": {
  "kernelspec": {
   "display_name": "venv",
   "language": "python",
   "name": "python3"
  },
  "language_info": {
   "codemirror_mode": {
    "name": "ipython",
    "version": 3
   },
   "file_extension": ".py",
   "mimetype": "text/x-python",
   "name": "python",
   "nbconvert_exporter": "python",
   "pygments_lexer": "ipython3",
   "version": "3.12.4"
  }
 },
 "nbformat": 4,
 "nbformat_minor": 4
}
